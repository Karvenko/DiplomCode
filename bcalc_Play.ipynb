{
 "cells": [
  {
   "cell_type": "code",
   "execution_count": 1,
   "metadata": {},
   "outputs": [],
   "source": [
    "import os"
   ]
  },
  {
   "cell_type": "code",
   "execution_count": null,
   "metadata": {},
   "outputs": [],
   "source": [
    "args = '-c \"532.8.Q983.AJT96 T98.AKJ962.A4.52 KQ7.T75.KJT2.KQ8 AJ64.Q43.765.743\" -t a -e e -q'\n",
    "os.execl('bcalc/bcalconsole.exe', args)"
   ]
  },
  {
   "cell_type": "code",
   "execution_count": 8,
   "metadata": {},
   "outputs": [],
   "source": [
    "stream = os.popen('bcalc/bcalconsole.exe')# -c \"532.8.Q983.AJT96 T98.AKJ962.A4.52 KQ7.T75.KJT2.KQ8 AJ64.Q43.765.743\" -t a -e e -q')"
   ]
  },
  {
   "cell_type": "code",
   "execution_count": 9,
   "metadata": {},
   "outputs": [
    {
     "data": {
      "text/plain": [
       "''"
      ]
     },
     "execution_count": 9,
     "metadata": {},
     "output_type": "execute_result"
    }
   ],
   "source": [
    "output = stream.read()\n",
    "output"
   ]
  },
  {
   "cell_type": "code",
   "execution_count": 7,
   "metadata": {},
   "outputs": [
    {
     "data": {
      "text/plain": [
       "'hi\\n'"
      ]
     },
     "execution_count": 7,
     "metadata": {},
     "output_type": "execute_result"
    }
   ],
   "source": [
    "stream = os.popen('echo hi')\n",
    "output = stream.read()\n",
    "output"
   ]
  },
  {
   "cell_type": "code",
   "execution_count": 1,
   "metadata": {},
   "outputs": [],
   "source": [
    "import subprocess"
   ]
  },
  {
   "cell_type": "code",
   "execution_count": 2,
   "metadata": {},
   "outputs": [
    {
     "name": "stdout",
     "output_type": "stream",
     "text": [
      "Wall time: 245 ms\n"
     ]
    },
    {
     "data": {
      "text/plain": [
       "(b'  N   9  9  3  3  5\\r\\n  S   9  9  3  3  5\\r\\n  E   4  3  9  8  8\\r\\n  W   4  3  9  8  8\\r\\n',\n",
       " b'')"
      ]
     },
     "execution_count": 2,
     "metadata": {},
     "output_type": "execute_result"
    }
   ],
   "source": [
    "%%time\n",
    "process = subprocess.Popen('../bcalc/bcalconsole.exe -c \"532.8.Q983.AJT96 T98.AKJ962.A4.52 KQ7.T75.KJT2.KQ8 AJ64.Q43.765.743\" -t a -e e -q',\n",
    "                          stdout=subprocess.PIPE, stderr=subprocess.PIPE)\n",
    "stdout = process.communicate()\n",
    "stdout"
   ]
  },
  {
   "cell_type": "code",
   "execution_count": 6,
   "metadata": {},
   "outputs": [
    {
     "name": "stdout",
     "output_type": "stream",
     "text": [
      "0\n",
      "50\n",
      "100\n",
      "150\n",
      "200\n",
      "250\n",
      "300\n",
      "350\n",
      "Wall time: 27.9 s\n"
     ]
    },
    {
     "data": {
      "text/plain": [
       "(b'  N   9  9  3  3  5\\r\\n  S   9  9  3  3  5\\r\\n  E   4  3  9  8  8\\r\\n  W   4  3  9  8  8\\r\\n',\n",
       " b'')"
      ]
     },
     "execution_count": 6,
     "metadata": {},
     "output_type": "execute_result"
    }
   ],
   "source": [
    "%%time\n",
    "for i in range(400):\n",
    "    process1 = subprocess.Popen('../bcalc/bcalconsole.exe -c \"532.8.Q983.AJT96 T98.AKJ962.A4.52 KQ7.T75.KJT2.KQ8 AJ64.Q43.765.743\" -t a -e e -q',\n",
    "                          stdout=subprocess.PIPE, stderr=subprocess.PIPE)\n",
    "#     process2 = subprocess.Popen('../bcalc/bcalconsole.exe -c \"J7.AK54.KJ82.Q85 982.JT76.6.76432 AK543.932.AQ97.K QT6.Q8.T543.AJT9\" -t a -e e -q',\n",
    "#                           stdout=subprocess.PIPE, stderr=subprocess.PIPE)\n",
    "#     process3 = subprocess.Popen('../bcalc/bcalconsole.exe -c \"865.T8.JT862.KT3 K9432.K3.543.A94 A.AJ952.AK7.7652 QJT7.Q764.Q9.QJ8\" -t a -e e -q',\n",
    "#                           stdout=subprocess.PIPE, stderr=subprocess.PIPE)\n",
    "#     process4 = subprocess.Popen('../bcalc/bcalconsole.exe -c \"QJ982.T53.T87.75 43.J742.J942.KQT A7.AK8.KQ63.9432 KT65.Q96.A5.AJ86\" -t a -e e -q',\n",
    "#                           stdout=subprocess.PIPE, stderr=subprocess.PIPE)\n",
    "    stdout1 = process1.communicate()\n",
    "#     stdout2 = process2.communicate()\n",
    "#     stdout3 = process3.communicate()\n",
    "#     stdout4 = process4.communicate()\n",
    "    if i % 50 == 0:\n",
    "        print(i)\n",
    "    \n",
    "stdout1#, stdout2, stdout3, stdout4"
   ]
  },
  {
   "cell_type": "code",
   "execution_count": 71,
   "metadata": {},
   "outputs": [
    {
     "name": "stdout",
     "output_type": "stream",
     "text": [
      "  N   9  9  3  3  5\n",
      "  S   9  9  3  3  5\n",
      "  E   4  3  9  8  8\n",
      "  W   4  3  9  8  8\n",
      "\n"
     ]
    }
   ],
   "source": [
    "print(stdout[0].decode('utf-8'))"
   ]
  },
  {
   "cell_type": "code",
   "execution_count": 25,
   "metadata": {},
   "outputs": [],
   "source": [
    "from ctypes import *\n",
    "import ctypes\n",
    "\n",
    "dds = cdll.LoadLibrary(\"libbcalcdds\")"
   ]
  },
  {
   "cell_type": "code",
   "execution_count": 28,
   "metadata": {},
   "outputs": [],
   "source": [
    "solver = dds.bcalcDDS_new(b\"PBN\", b\"N:.63.AKQ987.A9732 A8654.KQ5.T.QJT6 J973.J98742.3.K4 KQT2.AT.J6542.85\", 4, 0)"
   ]
  },
  {
   "cell_type": "code",
   "execution_count": 27,
   "metadata": {},
   "outputs": [],
   "source": [
    "pbn = 'T3.QJ843.654.654 KQ95.AKT9.Q.AJ82 J642.52.KJ982.97 A87.76.AT73.KQT3'\n",
    "solver = dds.bcalcDDS_new(b\"PBN\", b'T3.QJ843.654.654 KQ95.AKT9.Q.AJ82 J642.52.KJ982.97 A87.76.AT73.KQT3', 1, 1)"
   ]
  },
  {
   "cell_type": "code",
   "execution_count": 29,
   "metadata": {},
   "outputs": [
    {
     "data": {
      "text/plain": [
       "5"
      ]
     },
     "execution_count": 29,
     "metadata": {},
     "output_type": "execute_result"
    }
   ],
   "source": [
    "dds.bcalcDDS_getTricksToTake(solver)"
   ]
  },
  {
   "cell_type": "code",
   "execution_count": 52,
   "metadata": {},
   "outputs": [],
   "source": [
    "table = []\n",
    "solver = dds.bcalcDDS_new(b\"LIN\", b\"h63dAKQ987cA9732,sA8654hKQ5dTcQJT6,sJ973hJ98742d3cK4,nKQT2hATdJ6542c85\", 0, 0)\n",
    "for decl in range(4):\n",
    "    dds.bcalcDDS_setPlayerOnLeadAndReset(solver, decl)\n",
    "    tricks = []\n",
    "    for suit in range(5):\n",
    "        dds.bcalcDDS_setTrumpAndReset(solver, suit)\n",
    "        cur_tr = dds.bcalcDDS_getTricksToTake(solver)\n",
    "        tricks.append(cur_tr)\n",
    "    table.append(tricks)"
   ]
  },
  {
   "cell_type": "code",
   "execution_count": 53,
   "metadata": {},
   "outputs": [
    {
     "name": "stdout",
     "output_type": "stream",
     "text": [
      "[0, 0, 0, 0, 0]\n",
      "[0, 0, 0, 0, 0]\n",
      "[0, 0, 0, 0, 0]\n",
      "[0, 0, 0, 0, 0]\n"
     ]
    }
   ],
   "source": [
    "for line in table:\n",
    "    print(line)"
   ]
  },
  {
   "cell_type": "code",
   "execution_count": 44,
   "metadata": {},
   "outputs": [],
   "source": [
    "table = []\n",
    "solver = dds.bcalcDDS_new(b\"PBN\", b\"E:A8654.KQ5.T.QJT6 J973.J98742.3.K4 KQT2.AT.J6542.85\", 0, 0)\n",
    "for decl in range(4):\n",
    "    dds.bcalcDDS_setPlayerOnLeadAndReset(solver, decl)\n",
    "    tricks = []\n",
    "    for suit in range(5):\n",
    "        dds.bcalcDDS_setTrumpAndReset(solver, suit)\n",
    "        cur_tr = dds.bcalcDDS_getTricksToTake(solver)\n",
    "        tricks.append(cur_tr)\n",
    "    table.append(tricks)\n"
   ]
  },
  {
   "cell_type": "code",
   "execution_count": 45,
   "metadata": {},
   "outputs": [
    {
     "name": "stdout",
     "output_type": "stream",
     "text": [
      "[8, 8, 7, 4, 5]\n",
      "[5, 5, 7, 9, 8]\n",
      "[8, 8, 8, 4, 5]\n",
      "[5, 5, 7, 9, 8]\n"
     ]
    }
   ],
   "source": [
    "for line in table:\n",
    "    print(line)"
   ]
  },
  {
   "cell_type": "code",
   "execution_count": 46,
   "metadata": {},
   "outputs": [],
   "source": [
    "table = []\n",
    "solver = dds.bcalcDDS_new(b\"PBN\", b\"N:.63.AKQ987.A9732 A8654.KQ5.T.QJT6 J973.J98742.3.K4 KQT2.AT.J6542.85\", 0, 0)\n",
    "for decl in range(4):\n",
    "    dds.bcalcDDS_setPlayerOnLeadAndReset(solver, decl)\n",
    "    tricks = []\n",
    "    for suit in range(5):\n",
    "        dds.bcalcDDS_setTrumpAndReset(solver, suit)\n",
    "        cur_tr = dds.bcalcDDS_getTricksToTake(solver)\n",
    "        tricks.append(cur_tr)\n",
    "    table.append(tricks)\n"
   ]
  },
  {
   "cell_type": "code",
   "execution_count": 47,
   "metadata": {},
   "outputs": [
    {
     "name": "stdout",
     "output_type": "stream",
     "text": [
      "[8, 8, 7, 4, 5]\n",
      "[5, 5, 7, 9, 8]\n",
      "[8, 8, 8, 4, 5]\n",
      "[5, 5, 7, 9, 8]\n"
     ]
    }
   ],
   "source": [
    "for line in table:\n",
    "    print(line)"
   ]
  },
  {
   "cell_type": "code",
   "execution_count": 3,
   "metadata": {},
   "outputs": [
    {
     "data": {
      "text/plain": [
       "[[8, 8, 7, 4, 5], [5, 5, 7, 9, 8], [8, 8, 8, 4, 5], [5, 5, 7, 9, 8]]"
      ]
     },
     "execution_count": 3,
     "metadata": {},
     "output_type": "execute_result"
    }
   ],
   "source": [
    "table"
   ]
  },
  {
   "cell_type": "code",
   "execution_count": 65,
   "metadata": {},
   "outputs": [
    {
     "name": "stdout",
     "output_type": "stream",
     "text": [
      "[[8, 8, 7, 4, 5], [5, 5, 7, 9, 8], [8, 8, 8, 4, 5], [5, 5, 7, 9, 8]]\n"
     ]
    }
   ],
   "source": [
    "print(table)"
   ]
  },
  {
   "cell_type": "code",
   "execution_count": 66,
   "metadata": {},
   "outputs": [
    {
     "name": "stdout",
     "output_type": "stream",
     "text": [
      "Wall time: 1min 49s\n"
     ]
    }
   ],
   "source": [
    "%%time\n",
    "for i in range(100):\n",
    "    table = []\n",
    "    solver = dds.bcalcDDS_new(b\"PBN\", b\"N:.63.AKQ987.A9732 A8654.KQ5.T.QJT6 J973.J98742.3.K4 KQT2.AT.J6542.85\", 0, 0)\n",
    "    for decl in range(4):\n",
    "        dds.bcalcDDS_setPlayerOnLeadAndReset(solver, decl)\n",
    "        tricks = []\n",
    "        for suit in range(5):\n",
    "            dds.bcalcDDS_setTrumpAndReset(solver, suit)\n",
    "            cur_tr = dds.bcalcDDS_getTricksToTake(solver)\n",
    "            tricks.append(cur_tr)\n",
    "        table.append(tricks)\n"
   ]
  },
  {
   "cell_type": "code",
   "execution_count": null,
   "metadata": {},
   "outputs": [],
   "source": []
  },
  {
   "cell_type": "code",
   "execution_count": 20,
   "metadata": {},
   "outputs": [
    {
     "name": "stdout",
     "output_type": "stream",
     "text": [
      "[8, 5, 8, 5]\n",
      "[8, 5, 8, 5]\n",
      "[7, 7, 8, 7]\n",
      "[4, 9, 4, 9]\n",
      "[5, 8, 5, 8]\n"
     ]
    }
   ],
   "source": [
    "for line in table:\n",
    "    print(line)"
   ]
  },
  {
   "cell_type": "code",
   "execution_count": 21,
   "metadata": {},
   "outputs": [
    {
     "name": "stdout",
     "output_type": "stream",
     "text": [
      "Wall time: 2min 39s\n"
     ]
    }
   ],
   "source": [
    "%%time\n",
    "for i in range(400):\n",
    "    table = []\n",
    "    solver = dds.bcalcDDS_new(b\"PBN\", b\"N:.63.AKQ987.A9732 A8654.KQ5.T.QJT6 J973.J98742.3.K4 KQT2.AT.J6542.85\", 0, 0)\n",
    "    \n",
    "    for suit in range(5):\n",
    "        dds.bcalcDDS_setTrumpAndReset(solver, suit)\n",
    "        tricks = []\n",
    "        for decl in range(4):\n",
    "            dds.bcalcDDS_setPlayerOnLeadAndReset(solver, decl)\n",
    "            cur_tr = dds.bcalcDDS_getTricksToTake(solver)\n",
    "            tricks.append(cur_tr)\n",
    "        table.append(tricks)\n",
    "        \n",
    "    dds.bcalcDDS_delete(solver)"
   ]
  },
  {
   "cell_type": "markdown",
   "metadata": {},
   "source": [
    "## Load 2000 deals and then check speed"
   ]
  },
  {
   "cell_type": "code",
   "execution_count": 2,
   "metadata": {},
   "outputs": [],
   "source": [
    "#Variables - need to move to global file\n",
    "VUL_NONE = 0\n",
    "VUL_ALL = 1\n",
    "VUL_NS = 2\n",
    "VUL_EW = 3\n",
    "\n",
    "Player_N = 0\n",
    "Player_E = 1\n",
    "Player_S = 2\n",
    "Player_W = 3\n",
    "Players = [Player_N, Player_E, Player_S, Player_W]\n",
    "\n",
    "Suit_Spades = 0\n",
    "Suit_Hearts = 1\n",
    "Suit_Diamonds = 2\n",
    "Suit_Clubs = 3\n",
    "Suit_NT = 4"
   ]
  },
  {
   "cell_type": "code",
   "execution_count": 3,
   "metadata": {},
   "outputs": [],
   "source": [
    "def read_pbn_line(filename='../deals_1m.pbn'):\n",
    "    \"\"\"Reading deals from file, one by one.\n",
    "    Returns: PBN string, dealer, vulnerability\"\"\"\n",
    "    dealer = -1\n",
    "    vuln = -1\n",
    "    \n",
    "    with open(filename) as f:\n",
    "        for line in f:\n",
    "            \n",
    "            if line[:6] == '[Deale': #Parsing dealer info\n",
    "                cur_dealer = line.split('\"')[1]\n",
    "                if cur_dealer == 'N':\n",
    "                    dealer = Player_N\n",
    "                elif cur_dealer == 'E':\n",
    "                    dealer = Player_E\n",
    "                elif cur_dealer == 'S':\n",
    "                    dealer = Player_S\n",
    "                elif cur_dealer == 'W':\n",
    "                    dealer = Player_W\n",
    "                else:\n",
    "                    dealer = -1\n",
    "                    \n",
    "            elif line[:6] == '[Vulne': #Parsing vulnerability\n",
    "                cur_vuln = line.split('\"')[1]\n",
    "                if cur_vuln == 'None':\n",
    "                    vuln = VUL_NONE\n",
    "                elif cur_vuln == 'All':\n",
    "                    vuln = VUL_ALL\n",
    "                elif cur_vuln == 'NS':\n",
    "                    vuln = VUL_NS\n",
    "                elif cur_vuln == 'EW':\n",
    "                    vuln = VUL_EW\n",
    "            \n",
    "            elif line[:6] == '[Deal ': #Get PBN string\n",
    "                pbn_str = line.split('\"')[1]\n",
    "                yield pbn_str, dealer, vuln #return everything\n",
    "                \n",
    "            else:\n",
    "                continue"
   ]
  },
  {
   "cell_type": "code",
   "execution_count": 4,
   "metadata": {},
   "outputs": [],
   "source": [
    "dg = read_pbn_line()"
   ]
  },
  {
   "cell_type": "code",
   "execution_count": 5,
   "metadata": {},
   "outputs": [
    {
     "data": {
      "text/plain": [
       "('N:J97.KQ642.KJ6.J2 KT32.5.AQ7542.T5 64.AT93.T83.KQ64 AQ85.J87.9.A9873', 0, 0)"
      ]
     },
     "execution_count": 5,
     "metadata": {},
     "output_type": "execute_result"
    }
   ],
   "source": [
    "next(dg)"
   ]
  },
  {
   "cell_type": "code",
   "execution_count": 6,
   "metadata": {},
   "outputs": [],
   "source": [
    "deals = []\n",
    "for i in range(2000):\n",
    "    pbn, d, v = next(dg)\n",
    "    deals.append(pbn[2:])"
   ]
  },
  {
   "cell_type": "code",
   "execution_count": 7,
   "metadata": {},
   "outputs": [
    {
     "data": {
      "text/plain": [
       "'../bcalc/bcalconsole.exe -t a -e e -q -c \"J7.AK54.KJ82.Q85 982.JT76.6.76432 AK543.932.AQ97.K QT6.Q8.T543.AJT9\"'"
      ]
     },
     "execution_count": 7,
     "metadata": {},
     "output_type": "execute_result"
    }
   ],
   "source": [
    "command_string = '../bcalc/bcalconsole.exe -t a -e e -q -c \"' + deals[1] + '\"'\n",
    "command_string"
   ]
  },
  {
   "cell_type": "code",
   "execution_count": 11,
   "metadata": {},
   "outputs": [
    {
     "name": "stdout",
     "output_type": "stream",
     "text": [
      "0\n",
      "50\n",
      "100\n",
      "150\n",
      "200\n",
      "250\n",
      "300\n",
      "350\n",
      "Wall time: 3min 49s\n"
     ]
    },
    {
     "data": {
      "text/plain": [
       "(b'  N   9 12  6  8 12\\r\\n  S   9 12  6  8 12\\r\\n  E   2  1  6  4  1\\r\\n  W   2  1  6  4  1\\r\\n',\n",
       " b'')"
      ]
     },
     "execution_count": 11,
     "metadata": {},
     "output_type": "execute_result"
    }
   ],
   "source": [
    "%%time\n",
    "for i in range(400):\n",
    "    n_thr = 2\n",
    "    command_string1 = '../bcalc/bcalconsole.exe -t a -e e -q -c \"' + deals[i*n_thr] + '\"'\n",
    "#     command_string2 = '../bcalc/bcalconsole.exe -t a -e e -q -c \"' + deals[i*n_thr+1] + '\"'\n",
    "#     command_string3 = '../bcalc/bcalconsole.exe -t a -e e -q -c \"' + deals[i*n_thr+2] + '\"'\n",
    "#     command_string4 = '../bcalc/bcalconsole.exe -t a -e e -q -c \"' + deals[i*n_thr+3] + '\"'\n",
    "    \n",
    "    process1 = subprocess.Popen(command_string1, stdout=subprocess.PIPE, stderr=subprocess.PIPE)\n",
    "    process2 = subprocess.Popen(command_string2, stdout=subprocess.PIPE, stderr=subprocess.PIPE)\n",
    "#     process3 = subprocess.Popen(command_string3, stdout=subprocess.PIPE, stderr=subprocess.PIPE)\n",
    "#     process4 = subprocess.Popen(command_string4, stdout=subprocess.PIPE, stderr=subprocess.PIPE)\n",
    "    \n",
    "    process1.wait()\n",
    "#     process2.wait()\n",
    "#     process3.wait()\n",
    "#     process4.wait()\n",
    "    \n",
    "    stdout1 = process1.communicate()\n",
    "#     stdout2 = process2.communicate()\n",
    "#     stdout3 = process3.communicate()\n",
    "#     stdout4 = process4.communicate()\n",
    "    \n",
    "    if i % 50 == 0:\n",
    "        print(i)\n",
    "        \n",
    "stdout1#, stdout2#, stdout3, stdout4"
   ]
  },
  {
   "cell_type": "code",
   "execution_count": 2,
   "metadata": {},
   "outputs": [],
   "source": [
    "import multiprocessing\n",
    "import time\n",
    "import numpy as np\n",
    "\n",
    "\n",
    "def cpu_bound(number):\n",
    "    return number*number\n",
    "\n",
    "\n",
    "def find_sums(numbers):\n",
    "    with multiprocessing.Pool() as pool:\n",
    "        a = pool.map(cpu_bound, numbers)\n",
    "    return a\n",
    "\n",
    "# if __name__ == \"__main__\":\n"
   ]
  },
  {
   "cell_type": "code",
   "execution_count": null,
   "metadata": {},
   "outputs": [],
   "source": [
    "numbers = [5_000_000 + x for x in range(20)]\n",
    "\n",
    "start_time = time.time()\n",
    "find_sums(numbers)\n",
    "duration = time.time() - start_time\n",
    "print(f\"Duration {duration} seconds\")"
   ]
  },
  {
   "cell_type": "code",
   "execution_count": null,
   "metadata": {},
   "outputs": [],
   "source": [
    "numbers = [x for x in range(20)]\n",
    "find_sums(numbers)"
   ]
  },
  {
   "cell_type": "code",
   "execution_count": 1,
   "metadata": {},
   "outputs": [],
   "source": [
    "ttt = 'mystring'"
   ]
  },
  {
   "cell_type": "code",
   "execution_count": 3,
   "metadata": {},
   "outputs": [
    {
     "data": {
      "text/plain": [
       "b'mystring'"
      ]
     },
     "execution_count": 3,
     "metadata": {},
     "output_type": "execute_result"
    }
   ],
   "source": [
    "ttt.encode()"
   ]
  },
  {
   "cell_type": "code",
   "execution_count": null,
   "metadata": {},
   "outputs": [],
   "source": []
  }
 ],
 "metadata": {
  "kernelspec": {
   "display_name": "Python 3",
   "language": "python",
   "name": "python3"
  },
  "language_info": {
   "codemirror_mode": {
    "name": "ipython",
    "version": 3
   },
   "file_extension": ".py",
   "mimetype": "text/x-python",
   "name": "python",
   "nbconvert_exporter": "python",
   "pygments_lexer": "ipython3",
   "version": "3.7.3"
  }
 },
 "nbformat": 4,
 "nbformat_minor": 4
}
