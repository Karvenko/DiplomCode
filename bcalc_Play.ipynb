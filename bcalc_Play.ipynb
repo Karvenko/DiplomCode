{
 "cells": [
  {
   "cell_type": "code",
   "execution_count": 1,
   "metadata": {},
   "outputs": [],
   "source": [
    "import os"
   ]
  },
  {
   "cell_type": "code",
   "execution_count": null,
   "metadata": {},
   "outputs": [],
   "source": [
    "args = '-c \"532.8.Q983.AJT96 T98.AKJ962.A4.52 KQ7.T75.KJT2.KQ8 AJ64.Q43.765.743\" -t a -e e -q'\n",
    "os.execl('bcalc/bcalconsole.exe', args)"
   ]
  },
  {
   "cell_type": "code",
   "execution_count": 8,
   "metadata": {},
   "outputs": [],
   "source": [
    "stream = os.popen('bcalc/bcalconsole.exe')# -c \"532.8.Q983.AJT96 T98.AKJ962.A4.52 KQ7.T75.KJT2.KQ8 AJ64.Q43.765.743\" -t a -e e -q')"
   ]
  },
  {
   "cell_type": "code",
   "execution_count": 9,
   "metadata": {},
   "outputs": [
    {
     "data": {
      "text/plain": [
       "''"
      ]
     },
     "execution_count": 9,
     "metadata": {},
     "output_type": "execute_result"
    }
   ],
   "source": [
    "output = stream.read()\n",
    "output"
   ]
  },
  {
   "cell_type": "code",
   "execution_count": 7,
   "metadata": {},
   "outputs": [
    {
     "data": {
      "text/plain": [
       "'hi\\n'"
      ]
     },
     "execution_count": 7,
     "metadata": {},
     "output_type": "execute_result"
    }
   ],
   "source": [
    "stream = os.popen('echo hi')\n",
    "output = stream.read()\n",
    "output"
   ]
  },
  {
   "cell_type": "code",
   "execution_count": 6,
   "metadata": {},
   "outputs": [
    {
     "data": {
      "text/plain": [
       "(b'  N   9  9  3  3  5\\r\\n  S   9  9  3  3  5\\r\\n  E   4  3  9  8  8\\r\\n  W   4  3  9  8  8\\r\\n',\n",
       " b'')"
      ]
     },
     "execution_count": 6,
     "metadata": {},
     "output_type": "execute_result"
    }
   ],
   "source": [
    "import subprocess\n",
    "process = subprocess.Popen('bcalc/bcalconsole.exe -c \"532.8.Q983.AJT96 T98.AKJ962.A4.52 KQ7.T75.KJT2.KQ8 AJ64.Q43.765.743\" -t a -e e -q',\n",
    "                          stdout=subprocess.PIPE, stderr=subprocess.PIPE)\n",
    "stdout = process.communicate()\n",
    "stdout"
   ]
  },
  {
   "cell_type": "code",
   "execution_count": 67,
   "metadata": {},
   "outputs": [
    {
     "name": "stdout",
     "output_type": "stream",
     "text": [
      "Wall time: 8.44 s\n"
     ]
    }
   ],
   "source": [
    "%%time\n",
    "for i in range(100):\n",
    "    process = subprocess.Popen('bcalc/bcalconsole.exe -c \"532.8.Q983.AJT96 T98.AKJ962.A4.52 KQ7.T75.KJT2.KQ8 AJ64.Q43.765.743\" -t a -e e -q',\n",
    "                          stdout=subprocess.PIPE, stderr=subprocess.PIPE)\n",
    "    stdout = process.communicate()"
   ]
  },
  {
   "cell_type": "code",
   "execution_count": 71,
   "metadata": {},
   "outputs": [
    {
     "name": "stdout",
     "output_type": "stream",
     "text": [
      "  N   9  9  3  3  5\n",
      "  S   9  9  3  3  5\n",
      "  E   4  3  9  8  8\n",
      "  W   4  3  9  8  8\n",
      "\n"
     ]
    }
   ],
   "source": [
    "print(stdout[0].decode('utf-8'))"
   ]
  },
  {
   "cell_type": "code",
   "execution_count": 10,
   "metadata": {},
   "outputs": [],
   "source": [
    "from ctypes import *\n",
    "import ctypes\n",
    "\n",
    "dds = cdll.LoadLibrary(\"libbcalcdds\")"
   ]
  },
  {
   "cell_type": "code",
   "execution_count": 58,
   "metadata": {},
   "outputs": [],
   "source": [
    "solver = dds.bcalcDDS_new(b\"PBN\", b\"N:.63.AKQ987.A9732 A8654.KQ5.T.QJT6 J973.J98742.3.K4 KQT2.AT.J6542.85\", 4, 0)"
   ]
  },
  {
   "cell_type": "code",
   "execution_count": 59,
   "metadata": {},
   "outputs": [
    {
     "data": {
      "text/plain": [
       "5"
      ]
     },
     "execution_count": 59,
     "metadata": {},
     "output_type": "execute_result"
    }
   ],
   "source": [
    "dds.bcalcDDS_getTricksToTake(solver)"
   ]
  },
  {
   "cell_type": "code",
   "execution_count": 63,
   "metadata": {},
   "outputs": [],
   "source": [
    "table = []\n",
    "solver = dds.bcalcDDS_new(b\"PBN\", b\"N:.63.AKQ987.A9732 A8654.KQ5.T.QJT6 J973.J98742.3.K4 KQT2.AT.J6542.85\", 0, 0)\n",
    "for decl in range(4):\n",
    "    dds.bcalcDDS_setPlayerOnLeadAndReset(solver, decl)\n",
    "    tricks = []\n",
    "    for suit in range(5):\n",
    "        dds.bcalcDDS_setTrumpAndReset(solver, suit)\n",
    "        cur_tr = dds.bcalcDDS_getTricksToTake(solver)\n",
    "        tricks.append(cur_tr)\n",
    "    table.append(tricks)\n"
   ]
  },
  {
   "cell_type": "code",
   "execution_count": 64,
   "metadata": {},
   "outputs": [
    {
     "data": {
      "text/plain": [
       "[[8, 8, 7, 4, 5], [5, 5, 7, 9, 8], [8, 8, 8, 4, 5], [5, 5, 7, 9, 8]]"
      ]
     },
     "execution_count": 64,
     "metadata": {},
     "output_type": "execute_result"
    }
   ],
   "source": [
    "table"
   ]
  },
  {
   "cell_type": "code",
   "execution_count": 65,
   "metadata": {},
   "outputs": [
    {
     "name": "stdout",
     "output_type": "stream",
     "text": [
      "[[8, 8, 7, 4, 5], [5, 5, 7, 9, 8], [8, 8, 8, 4, 5], [5, 5, 7, 9, 8]]\n"
     ]
    }
   ],
   "source": [
    "print(table)"
   ]
  },
  {
   "cell_type": "code",
   "execution_count": 66,
   "metadata": {},
   "outputs": [
    {
     "name": "stdout",
     "output_type": "stream",
     "text": [
      "Wall time: 1min 49s\n"
     ]
    }
   ],
   "source": [
    "%%time\n",
    "for i in range(100):\n",
    "    table = []\n",
    "    solver = dds.bcalcDDS_new(b\"PBN\", b\"N:.63.AKQ987.A9732 A8654.KQ5.T.QJT6 J973.J98742.3.K4 KQT2.AT.J6542.85\", 0, 0)\n",
    "    for decl in range(4):\n",
    "        dds.bcalcDDS_setPlayerOnLeadAndReset(solver, decl)\n",
    "        tricks = []\n",
    "        for suit in range(5):\n",
    "            dds.bcalcDDS_setTrumpAndReset(solver, suit)\n",
    "            cur_tr = dds.bcalcDDS_getTricksToTake(solver)\n",
    "            tricks.append(cur_tr)\n",
    "        table.append(tricks)\n"
   ]
  },
  {
   "cell_type": "code",
   "execution_count": null,
   "metadata": {},
   "outputs": [],
   "source": []
  }
 ],
 "metadata": {
  "kernelspec": {
   "display_name": "Python 3",
   "language": "python",
   "name": "python3"
  },
  "language_info": {
   "codemirror_mode": {
    "name": "ipython",
    "version": 3
   },
   "file_extension": ".py",
   "mimetype": "text/x-python",
   "name": "python",
   "nbconvert_exporter": "python",
   "pygments_lexer": "ipython3",
   "version": "3.7.3"
  }
 },
 "nbformat": 4,
 "nbformat_minor": 4
}
