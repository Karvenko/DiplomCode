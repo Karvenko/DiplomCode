{
 "cells": [
  {
   "cell_type": "code",
   "execution_count": 1,
   "metadata": {},
   "outputs": [
    {
     "name": "stdout",
     "output_type": "stream",
     "text": [
      "Loaded lib <CDLL 'dds', handle 7fee36a0000 at 0x507cba8>\n"
     ]
    }
   ],
   "source": [
    "import ctypes\n",
    "from ctypes import *\n",
    "import dds\n",
    "import functions #Printing\n",
    "import hands #test info\n"
   ]
  },
  {
   "cell_type": "code",
   "execution_count": 2,
   "metadata": {},
   "outputs": [],
   "source": [
    "#Variables - need to move to global file\n",
    "VUL_NONE = 0\n",
    "VUL_ALL = 1\n",
    "VUL_NS = 2\n",
    "VUL_EW = 3\n",
    "\n",
    "Player_N = 0\n",
    "Player_E = 1\n",
    "Player_S = 2\n",
    "Player_W = 3\n",
    "Players = [Player_N, Player_E, Player_S, Player_W]\n",
    "\n",
    "Suit_Spades = 0\n",
    "Suit_Hearts = 1\n",
    "Suit_Diamonds = 2\n",
    "Suit_Clubs = 3\n",
    "Suit_NT = 4"
   ]
  },
  {
   "cell_type": "code",
   "execution_count": null,
   "metadata": {},
   "outputs": [],
   "source": [
    "hands.PBN"
   ]
  },
  {
   "cell_type": "code",
   "execution_count": null,
   "metadata": {},
   "outputs": [],
   "source": [
    "DDdealsPBN = dds.ddTableDealsPBN()\n",
    "tableRes = dds.ddTablesRes()\n",
    "pres = dds.allParResults()\n",
    "\n",
    "mode = -1 #Responcible for par calcs & Vuln. -1 - no Calc, 0 - None, 1 - Both, 2 - NS, 3 - EW\n",
    "tFilter = ctypes.c_int * dds.DDS_STRAINS\n",
    "trumpFilter = tFilter(0, 0, 0, 0, 0)\n",
    "line = ctypes.create_string_buffer(80)\n",
    "\n",
    "dds.SetMaxThreads(0)\n",
    "\n",
    "DDdealsPBN.noOfTables = 3\n",
    "\n",
    "for handno in range(3):\n",
    "    DDdealsPBN.deals[handno].cards = hands.PBN[handno]\n",
    "\n",
    "res = dds.CalcAllTablesPBN(ctypes.pointer(DDdealsPBN), mode, trumpFilter, \n",
    "                           ctypes.pointer(tableRes), ctypes.pointer(pres))\n",
    "\n",
    "if res != dds.RETURN_NO_FAULT:\n",
    "    dds.ErrorMessage(res, line)\n",
    "    print(\"DDS error: {}\".format(line.value.decode(\"utf-8\")))\n",
    "\n",
    "for handno in range(3):\n",
    "    match = functions.CompareTable(ctypes.pointer(tableRes.results[handno]), handno)\n",
    "\n",
    "    line = \"CalcDDtable, hand {}: {}\".format(\n",
    "        handno + 1,\n",
    "        \"OK\" if match else \"ERROR\")\n",
    "    \n",
    "    par_res = dds.Par(ctypes.pointer(tableRes.results[handno]), ctypes.pointer(pres.presults[handno]), 3)\n",
    "    functions.PrintPBNHand(line, DDdealsPBN.deals[handno].cards)\n",
    "\n",
    "    functions.PrintTable(ctypes.pointer(tableRes.results[handno]))\n",
    "    functions.PrintPar(ctypes.pointer(pres.presults[handno]))"
   ]
  },
  {
   "cell_type": "code",
   "execution_count": null,
   "metadata": {},
   "outputs": [],
   "source": [
    "par_res"
   ]
  },
  {
   "cell_type": "code",
   "execution_count": null,
   "metadata": {},
   "outputs": [],
   "source": [
    "DDtable = dds.ddTableResults()\n",
    "pres = dds.parResults()\n",
    "\n",
    "line = ctypes.create_string_buffer(80)\n",
    "\n",
    "dds.SetMaxThreads(0)\n",
    "\n",
    "for handno in range(0, 3):\n",
    "    functions.SetTable(ctypes.pointer(DDtable), handno)\n",
    "    res = dds.Par(\n",
    "        ctypes.pointer(DDtable),\n",
    "        pres,\n",
    "        hands.vul[handno])\n",
    "\n",
    "    if res != dds.RETURN_NO_FAULT:\n",
    "        dds.ErrorMessage(res, line)\n",
    "        print(\"DDS error: {}\".format(line.value.decode(\"utf-8\")))\n",
    "\n",
    "    match = functions.ComparePar(ctypes.pointer(pres), handno)\n",
    "\n",
    "    print(\"Par, hand {}: {}\\n\".format(handno + 1, \"OK\" if match else \"ERROR\"))\n",
    "\n",
    "    functions.PrintTable(ctypes.pointer(DDtable))\n",
    "    functions.PrintPar(ctypes.pointer(pres))"
   ]
  },
  {
   "cell_type": "code",
   "execution_count": null,
   "metadata": {},
   "outputs": [],
   "source": [
    "functions.PrintPar(ctypes.pointer(pres.presults[0]))"
   ]
  },
  {
   "cell_type": "code",
   "execution_count": null,
   "metadata": {},
   "outputs": [],
   "source": [
    "int(ctypes.pointer(pres.presults[2]).contents.parScore[0].value.decode('utf-8').split()[-1])"
   ]
  },
  {
   "cell_type": "code",
   "execution_count": 3,
   "metadata": {},
   "outputs": [],
   "source": [
    "def read_pbn_line(filename='../deals_1m.pbn'):\n",
    "    \"\"\"Reading deals from file, one by one.\n",
    "    Returns: PBN string, dealer, vulnerability\"\"\"\n",
    "    dealer = -1\n",
    "    vuln = -1\n",
    "    \n",
    "    with open(filename) as f:\n",
    "        for line in f:\n",
    "            \n",
    "            if line[:6] == '[Deale': #Parsing dealer info\n",
    "                cur_dealer = line.split('\"')[1]\n",
    "                if cur_dealer == 'N':\n",
    "                    dealer = Player_N\n",
    "                elif cur_dealer == 'E':\n",
    "                    dealer = Player_E\n",
    "                elif cur_dealer == 'S':\n",
    "                    dealer = Player_S\n",
    "                elif cur_dealer == 'W':\n",
    "                    dealer = Player_W\n",
    "                else:\n",
    "                    dealer = -1\n",
    "                    \n",
    "            elif line[:6] == '[Vulne': #Parsing vulnerability\n",
    "                cur_vuln = line.split('\"')[1]\n",
    "                if cur_vuln == 'None':\n",
    "                    vuln = VUL_NONE\n",
    "                elif cur_vuln == 'All':\n",
    "                    vuln = VUL_ALL\n",
    "                elif cur_vuln == 'NS':\n",
    "                    vuln = VUL_NS\n",
    "                elif cur_vuln == 'EW':\n",
    "                    vuln = VUL_EW\n",
    "            \n",
    "            elif line[:6] == '[Deal ': #Get PBN string\n",
    "                pbn_str = line.split('\"')[1]\n",
    "                yield pbn_str, dealer, vuln #return everything\n",
    "                \n",
    "            else:\n",
    "                continue"
   ]
  },
  {
   "cell_type": "code",
   "execution_count": 4,
   "metadata": {},
   "outputs": [],
   "source": [
    "dg = read_pbn_line()"
   ]
  },
  {
   "cell_type": "code",
   "execution_count": null,
   "metadata": {},
   "outputs": [],
   "source": [
    "next(dg)[0]"
   ]
  },
  {
   "cell_type": "code",
   "execution_count": 4,
   "metadata": {},
   "outputs": [],
   "source": [
    "def get_deals_batch(deal_gen, batch_size=100):\n",
    "    \"\"\"Put deals in batch\n",
    "    Returns: PBN string array, dealer array, vulnerability array\"\"\"\n",
    "    Deals = []\n",
    "    Dealers = []\n",
    "    Vuln = []\n",
    "    \n",
    "    try:\n",
    "        for i in range(batch_size):\n",
    "            d, ds, v = next(deal_gen)\n",
    "            Deals.append(d.encode('utf-8'))\n",
    "            Dealers.append(ds)\n",
    "            Vuln.append(v)\n",
    "    except:\n",
    "        raise(StopIteration)\n",
    "        \n",
    "    return Deals, Dealers, Vuln"
   ]
  },
  {
   "cell_type": "code",
   "execution_count": null,
   "metadata": {},
   "outputs": [],
   "source": [
    "# get_deals_batch(dg)"
   ]
  },
  {
   "cell_type": "code",
   "execution_count": 5,
   "metadata": {},
   "outputs": [],
   "source": [
    "def cal_deal_batch(deal_gen, batch_size=100):\n",
    "    \"\"\"Calculate Double Dummy for batch\n",
    "    Returns: list of trick tables, list of PAR results, DDdeals\"\"\"\n",
    "    \n",
    "    DDdealsPBN = dds.ddTableDealsPBN()\n",
    "    tableRes = dds.ddTablesRes()\n",
    "    pres = dds.allParResults()\n",
    "\n",
    "    mode = -1 #Responcible for par calcs & Vuln. -1 - no Calc, 0 - None, 1 - Both, 2 - NS, 3 - EW\n",
    "    tFilter = ctypes.c_int * dds.DDS_STRAINS\n",
    "    trumpFilter = tFilter(0, 0, 0, 0, 0)\n",
    "    line = ctypes.create_string_buffer(80)\n",
    "\n",
    "    dds.SetMaxThreads(0)\n",
    "\n",
    "    DDdealsPBN.noOfTables = batch_size\n",
    "    \n",
    "    Deals, Dealers, Vuln = get_deals_batch(deal_gen, batch_size)\n",
    "    \n",
    "    for handno in range(batch_size):\n",
    "        DDdealsPBN.deals[handno].cards = Deals[handno]\n",
    "        \n",
    "    res = dds.CalcAllTablesPBN(ctypes.pointer(DDdealsPBN), mode, \n",
    "                               trumpFilter, ctypes.pointer(tableRes), ctypes.pointer(pres))\n",
    "    \n",
    "    if res != dds.RETURN_NO_FAULT:\n",
    "        dds.ErrorMessage(res, line)\n",
    "        print(\"DDS error: {}\".format(line.value.decode(\"utf-8\")))\n",
    "        \n",
    "    for handno in range(batch_size):\n",
    "        par_res = dds.Par(ctypes.pointer(tableRes.results[handno]), \n",
    "                          ctypes.pointer(pres.presults[handno]), Vuln[handno])\n",
    "        \n",
    "    return tableRes, pres, DDdealsPBN, Vuln"
   ]
  },
  {
   "cell_type": "code",
   "execution_count": 33,
   "metadata": {},
   "outputs": [
    {
     "name": "stdout",
     "output_type": "stream",
     "text": [
      "Wall time: 10.4 s\n"
     ]
    }
   ],
   "source": [
    "%%time\n",
    "tableRes, pres, DDdeals, Vuln = cal_deal_batch(dg, batch_size=32)"
   ]
  },
  {
   "cell_type": "code",
   "execution_count": null,
   "metadata": {},
   "outputs": [],
   "source": [
    "functions.PrintTable(ctypes.pointer(tableRes.results[0]))"
   ]
  },
  {
   "cell_type": "code",
   "execution_count": null,
   "metadata": {},
   "outputs": [],
   "source": [
    "ctypes.pointer(tableRes.results[0]).contents.resTable[0][3]"
   ]
  },
  {
   "cell_type": "code",
   "execution_count": null,
   "metadata": {},
   "outputs": [],
   "source": [
    "ctypes.pointer(pres.presults[0]).contents.parScore[0].value.decode('utf-8')"
   ]
  },
  {
   "cell_type": "code",
   "execution_count": 6,
   "metadata": {},
   "outputs": [],
   "source": [
    "def par_to_num(pres):\n",
    "    \"\"\"Converts Par from DDS internal format to NS score\"\"\"\n",
    "    return int(pres.contents.parScore[0].value.decode('utf-8').split()[-1])"
   ]
  },
  {
   "cell_type": "code",
   "execution_count": 14,
   "metadata": {},
   "outputs": [
    {
     "data": {
      "text/plain": [
       "-460"
      ]
     },
     "execution_count": 14,
     "metadata": {},
     "output_type": "execute_result"
    }
   ],
   "source": [
    "par_to_num(ctypes.pointer(pres.presults[20]))"
   ]
  },
  {
   "cell_type": "code",
   "execution_count": 7,
   "metadata": {},
   "outputs": [],
   "source": [
    "def resTable_to_list(resTable):\n",
    "    \"\"\"Converts resTable from DDS internal format to list\n",
    "        North  East  South  West\n",
    "    Spades 0   1     2      3\n",
    "    Hearts 4   5     6      7\n",
    "    Dia    8   9     10     11\n",
    "    Clubs  12  13    14     15\n",
    "    NT     16  17    17     19\"\"\"\n",
    "    dd_table = []\n",
    "    for suit in range(dds.DDS_SUITS):\n",
    "        for player in Players:\n",
    "            dd_table.append(resTable.contents.resTable[suit][player])\n",
    "            \n",
    "    for player in Players: #NT Line\n",
    "        dd_table.append(resTable.contents.resTable[4][player])\n",
    "        \n",
    "    return dd_table"
   ]
  },
  {
   "cell_type": "code",
   "execution_count": 11,
   "metadata": {},
   "outputs": [
    {
     "data": {
      "text/plain": [
       "[4, 9, 4, 9, 3, 9, 3, 9, 2, 11, 2, 11, 4, 9, 4, 9, 2, 11, 2, 10]"
      ]
     },
     "execution_count": 11,
     "metadata": {},
     "output_type": "execute_result"
    }
   ],
   "source": [
    "resTable_to_list(ctypes.pointer(tableRes.results[20]))"
   ]
  },
  {
   "cell_type": "code",
   "execution_count": 12,
   "metadata": {},
   "outputs": [
    {
     "name": "stdout",
     "output_type": "stream",
     "text": [
      "      North South East  West \n",
      "   NT     2     2    11    10\n",
      "    S     4     4     9     9\n",
      "    H     3     3     9     9\n",
      "    D     2     2    11    11\n",
      "    C     4     4     9     9\n",
      "\n"
     ]
    }
   ],
   "source": [
    "functions.PrintTable(ctypes.pointer(tableRes.results[20]))"
   ]
  },
  {
   "cell_type": "code",
   "execution_count": 24,
   "metadata": {},
   "outputs": [
    {
     "data": {
      "text/plain": [
       "'N:K3.AKT62.7.JT542 AT872.8753.AT9.A J954.J9.QJ6543.8 Q6.Q4.K82.KQ9763'"
      ]
     },
     "execution_count": 24,
     "metadata": {},
     "output_type": "execute_result"
    }
   ],
   "source": [
    "DDdeals.deals[5].cards.decode('utf-8')"
   ]
  },
  {
   "cell_type": "code",
   "execution_count": 8,
   "metadata": {},
   "outputs": [],
   "source": [
    "def append_batch_to_file(filename, DDdeals, Vuln, tableRes, pres, batch_size):\n",
    "    with open(filename, 'a') as f:\n",
    "        for i in range(batch_size):\n",
    "            pbn_str = DDdeals.deals[i].cards.decode('utf-8')\n",
    "            f.write('[Deal \"')\n",
    "            f.write(pbn_str)\n",
    "            f.write('\"]\\n')\n",
    "            \n",
    "            f.write('[Vuln \"%d\"]\\n' % Vuln[i])\n",
    "            \n",
    "            tricks = resTable_to_list(ctypes.pointer(tableRes.results[i]))\n",
    "            f.write('[Tricks \"')\n",
    "            for tr in tricks:\n",
    "                f.write(\"%d \" % tr)\n",
    "            f.write('\"]\\n')\n",
    "            \n",
    "            par = par_to_num(ctypes.pointer(pres.presults[i]))\n",
    "            f.write('[Par \"')\n",
    "            f.write('%d' % par)\n",
    "            f.write('\"]\\n\\n')"
   ]
  },
  {
   "cell_type": "code",
   "execution_count": 38,
   "metadata": {},
   "outputs": [],
   "source": [
    "append_batch_to_file(\"test.out\", DDdeals, Vuln, tableRes, pres, 32)"
   ]
  },
  {
   "cell_type": "code",
   "execution_count": 17,
   "metadata": {},
   "outputs": [],
   "source": [
    "def process_file(in_file, out_file, num_deal=10016, batch_size=32):\n",
    "    \"\"\"Process deals from in_file and put in out_file. \n",
    "    DO NOT CHANGE num_deals & batchsize - no error handling\"\"\"\n",
    "    \n",
    "    deal_count = 0\n",
    "    dg = read_pbn_line(in_file)\n",
    "    while deal_count < num_deal-10:\n",
    "        tableRes, pres, DDdeals, Vuln = cal_deal_batch(dg, batch_size)\n",
    "        append_batch_to_file(out_file, DDdeals, Vuln, tableRes, pres, batch_size)\n",
    "        deal_count += batch_size\n",
    "        \n",
    "#         if deal_count % 640 == 0:\n",
    "#             print(deal_count)"
   ]
  },
  {
   "cell_type": "code",
   "execution_count": 16,
   "metadata": {},
   "outputs": [
    {
     "name": "stdout",
     "output_type": "stream",
     "text": [
      "640\n",
      "1280\n",
      "1920\n",
      "2560\n",
      "3200\n",
      "3840\n",
      "4480\n",
      "5120\n",
      "5760\n",
      "6400\n",
      "7040\n",
      "7680\n",
      "8320\n",
      "8960\n",
      "9600\n",
      "Wall time: 1h 12min 20s\n"
     ]
    }
   ],
   "source": [
    "%%time\n",
    "process_file(\"../deals/00000.pbn\", \"../deals/00000.out\")"
   ]
  },
  {
   "cell_type": "code",
   "execution_count": null,
   "metadata": {},
   "outputs": [],
   "source": []
  }
 ],
 "metadata": {
  "kernelspec": {
   "display_name": "Python 3",
   "language": "python",
   "name": "python3"
  },
  "language_info": {
   "codemirror_mode": {
    "name": "ipython",
    "version": 3
   },
   "file_extension": ".py",
   "mimetype": "text/x-python",
   "name": "python",
   "nbconvert_exporter": "python",
   "pygments_lexer": "ipython3",
   "version": "3.7.3"
  }
 },
 "nbformat": 4,
 "nbformat_minor": 4
}
