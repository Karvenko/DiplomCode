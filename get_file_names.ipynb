{
 "cells": [
  {
   "cell_type": "code",
   "execution_count": 17,
   "metadata": {},
   "outputs": [],
   "source": [
    "import os\n",
    "import glob"
   ]
  },
  {
   "cell_type": "code",
   "execution_count": 2,
   "metadata": {},
   "outputs": [],
   "source": [
    "IN_DIR = '../deals_raw'\n",
    "OUT_DIR = '../deals_processed'\n",
    "\n",
    "LAST_FILE = '../deals_processed/last_file'"
   ]
  },
  {
   "cell_type": "code",
   "execution_count": 3,
   "metadata": {},
   "outputs": [],
   "source": [
    "def make_lock_file(filename, lock_file=LAST_FILE):\n",
    "    with open(lock_file, 'w') as f:\n",
    "        f.write(filename)"
   ]
  },
  {
   "cell_type": "code",
   "execution_count": 13,
   "metadata": {},
   "outputs": [],
   "source": [
    "def make_cleanup(lock_file=LAST_FILE):\n",
    "    if os.path.isfile(lock_file):\n",
    "        try:\n",
    "            with open(lock_file, 'r') as f:\n",
    "                filename = f.readline()\n",
    "            \n",
    "            os.remove(OUT_DIR + '/' + filename)\n",
    "            os.remove(lock_file)\n",
    "        except:\n",
    "            raise FileNotFoundError()"
   ]
  },
  {
   "cell_type": "code",
   "execution_count": 25,
   "metadata": {},
   "outputs": [],
   "source": [
    "def get_file_names(in_dir=IN_DIR, out_dir=OUT_DIR):\n",
    "    #Cleaning out dir\n",
    "    make_cleanup()\n",
    "    \n",
    "    out_files = [f.split('\\\\')[-1].split('.')[0] for f in glob.glob(out_dir + '/' + '*.out')]\n",
    "    in_files = set([f.split('\\\\')[-1].split('.')[0] for f in glob.glob(in_dir + '/' + '*.pbn')])\n",
    "    for f in out_files:\n",
    "        in_files.discard(f)\n",
    "        \n",
    "    return in_files"
   ]
  },
  {
   "cell_type": "code",
   "execution_count": 31,
   "metadata": {},
   "outputs": [
    {
     "data": {
      "text/plain": [
       "998"
      ]
     },
     "execution_count": 31,
     "metadata": {},
     "output_type": "execute_result"
    }
   ],
   "source": [
    "len(get_file_names())"
   ]
  },
  {
   "cell_type": "code",
   "execution_count": 24,
   "metadata": {},
   "outputs": [
    {
     "data": {
      "text/plain": [
       "set()"
      ]
     },
     "execution_count": 24,
     "metadata": {},
     "output_type": "execute_result"
    }
   ],
   "source": [
    "set([f.split('\\\\')[-1].split('.')[0] for f in glob.glob(OUT_DIR + '/' + '*.pbn')])"
   ]
  },
  {
   "cell_type": "code",
   "execution_count": 29,
   "metadata": {},
   "outputs": [],
   "source": [
    "make_lock_file('10345.out')"
   ]
  },
  {
   "cell_type": "code",
   "execution_count": null,
   "metadata": {},
   "outputs": [],
   "source": []
  }
 ],
 "metadata": {
  "kernelspec": {
   "display_name": "Python 3",
   "language": "python",
   "name": "python3"
  },
  "language_info": {
   "codemirror_mode": {
    "name": "ipython",
    "version": 3
   },
   "file_extension": ".py",
   "mimetype": "text/x-python",
   "name": "python",
   "nbconvert_exporter": "python",
   "pygments_lexer": "ipython3",
   "version": "3.7.3"
  }
 },
 "nbformat": 4,
 "nbformat_minor": 4
}
