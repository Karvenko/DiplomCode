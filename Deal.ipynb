{
 "cells": [
  {
   "cell_type": "code",
   "execution_count": 23,
   "metadata": {},
   "outputs": [],
   "source": [
    "import numpy as np"
   ]
  },
  {
   "cell_type": "code",
   "execution_count": 25,
   "metadata": {},
   "outputs": [],
   "source": [
    "results = [10,3,10,3,9,4,9,4,4,8,4,8,5,8,5,8,6,6,6,6]"
   ]
  },
  {
   "cell_type": "code",
   "execution_count": null,
   "metadata": {},
   "outputs": [],
   "source": [
    "def load_deal(filename='../deals/00000.out'):\n",
    "    "
   ]
  },
  {
   "cell_type": "code",
   "execution_count": 44,
   "metadata": {},
   "outputs": [],
   "source": [
    "def calc_deal_result(contract, doubled, vuln, dealer, res_array):\n",
    "    \"\"\"Calculate score for contract (by number 0-34) based on res_array. \n",
    "    Doubled could be 0 (No), 1 (doubled), 2(redoubled).\n",
    "    Vuln - 0 or 1\"\"\"\n",
    "    \n",
    "    cont_tricks = np.ceil(contract / 5.0 + 6)\n",
    "    cont_suit = contract % 5\n",
    "    \n",
    "    if cont_suit == 0: #CLubs\n",
    "        real_tricks = res_array[12:16][dealer]\n",
    "    elif cont_suit == 1: #diamonds\n",
    "        real_tricks = res_array[8:12][dealer]\n",
    "    elif cont_suit == 2: #hearts\n",
    "        real_tricks = res_array[4:8][dealer]\n",
    "    elif cont_suit == 3: #spades\n",
    "        real_tricks = res_array[0:4][dealer]\n",
    "    else: #NT\n",
    "        real_tricks = res_array[16:][dealer]\n",
    "        \n",
    "    delta = cont_tricks - real_tricks    \n",
    "    if delta > 0: #going down\n",
    "        if doubled == 0: #no double, no trouble\n",
    "            if not vuln:\n",
    "                result = -50 * delta\n",
    "            else:\n",
    "                result = -100 * delta\n",
    "        else: #doubled or redoubled\n",
    "            if not vuln:\n",
    "                if delta == 1:\n",
    "                    result = -100\n",
    "                elif delta == 2:\n",
    "                    result = -300\n",
    "                elif delta == 3:\n",
    "                    result = -500\n",
    "                else:\n",
    "                    result = -500 - 300 * (delta-3)\n",
    "            else:\n",
    "                if delta == 1:\n",
    "                    result = -200\n",
    "                else:\n",
    "                    result = -200 - 300 * (delta - 1)\n",
    "        if doubled == 2: #Add redouble over double\n",
    "            result *= 2\n",
    "                    \n",
    "    return result"
   ]
  },
  {
   "cell_type": "code",
   "execution_count": 51,
   "metadata": {},
   "outputs": [
    {
     "data": {
      "text/plain": [
       "-1100.0"
      ]
     },
     "execution_count": 51,
     "metadata": {},
     "output_type": "execute_result"
    }
   ],
   "source": [
    "calc_deal_result(32, 1, 1, 0, results)"
   ]
  },
  {
   "cell_type": "code",
   "execution_count": 2,
   "metadata": {},
   "outputs": [],
   "source": [
    "card_dict = {\n",
    "    '2' : 0,\n",
    "    '3' : 1,\n",
    "    '4' : 2,\n",
    "    '5' : 3,\n",
    "    '6' : 4,\n",
    "    '7' : 5,\n",
    "    '8' : 6,\n",
    "    '9' : 7,\n",
    "    'T' : 8,\n",
    "    'J' : 9,\n",
    "    'Q' : 10,\n",
    "    'K' : 11,\n",
    "    'A' : 12\n",
    "}"
   ]
  },
  {
   "cell_type": "code",
   "execution_count": 12,
   "metadata": {},
   "outputs": [],
   "source": [
    "bit_dict = {\n",
    "    0 : '2',\n",
    "    1 : '3',\n",
    "    2 : '4',\n",
    "    3 : '5',\n",
    "    4 : '6',\n",
    "    5 : '7',\n",
    "    6 : '8',\n",
    "    7 : '9',\n",
    "    8 : 'T',\n",
    "    9 : 'J',\n",
    "    10 : 'Q',\n",
    "    11 : 'K',\n",
    "    12 : 'A'\n",
    "}"
   ]
  },
  {
   "cell_type": "code",
   "execution_count": 7,
   "metadata": {},
   "outputs": [],
   "source": [
    "def hand_to_vec(hand):\n",
    "    \"\"\"Converts text string into 52x[0,1]\n",
    "    Order - SHDC, 2 - lowest, A - highest\"\"\"\n",
    "    vec = [0]*52\n",
    "    \n",
    "    hand = hand.upper()\n",
    "    \n",
    "    offset = 0\n",
    "    for suit in hand.split('.'):\n",
    "        if len(suit) > 0:\n",
    "            for card in suit:\n",
    "                vec[offset + card_dict[card]] = 1\n",
    "        \n",
    "        offset += 13\n",
    "        \n",
    "    return vec"
   ]
  },
  {
   "cell_type": "code",
   "execution_count": 19,
   "metadata": {},
   "outputs": [
    {
     "name": "stdout",
     "output_type": "stream",
     "text": [
      "[0, 0, 0, 0, 0, 0, 0, 0, 0, 0, 0, 0, 0, 0, 1, 0, 0, 1, 0, 0, 0, 0, 0, 0, 0, 0, 0, 0, 0, 0, 0, 1, 1, 1, 0, 0, 1, 1, 1, 1, 1, 0, 0, 0, 1, 0, 1, 0, 0, 0, 0, 1]\n"
     ]
    }
   ],
   "source": [
    "print(hand_to_vec('.63.AKQ987.A9732'))"
   ]
  },
  {
   "cell_type": "code",
   "execution_count": 21,
   "metadata": {},
   "outputs": [],
   "source": [
    "def vec_to_hand(vec):\n",
    "    \"\"\"Converts vector to human-readable format\"\"\"\n",
    "    hand_str = ''\n",
    "    \n",
    "    offset = 0\n",
    "    for suit in range(4):\n",
    "        for card in range(12, -1, -1): #reverse walk\n",
    "            if vec[offset + card] == 1:\n",
    "                hand_str += bit_dict[card]\n",
    "                \n",
    "        offset += 13\n",
    "        hand_str += '.'\n",
    "    return hand_str[:-1] #remove trailing dot"
   ]
  },
  {
   "cell_type": "code",
   "execution_count": 22,
   "metadata": {},
   "outputs": [
    {
     "data": {
      "text/plain": [
       "'.63.AKQ987.A9732'"
      ]
     },
     "execution_count": 22,
     "metadata": {},
     "output_type": "execute_result"
    }
   ],
   "source": [
    "vec_to_hand([0, 0, 0, 0, 0, 0, 0, 0, 0, 0, 0, 0, 0, 0, 1, 0, 0, 1, 0, 0, 0, 0, 0, 0, 0, 0, 0, 0, 0, 0, 0, 1, 1, 1, 0, 0, 1, 1, 1, 1, 1, 0, 0, 0, 1, 0, 1, 0, 0, 0, 0, 1])"
   ]
  },
  {
   "cell_type": "code",
   "execution_count": null,
   "metadata": {},
   "outputs": [],
   "source": []
  }
 ],
 "metadata": {
  "kernelspec": {
   "display_name": "Python 3",
   "language": "python",
   "name": "python3"
  },
  "language_info": {
   "codemirror_mode": {
    "name": "ipython",
    "version": 3
   },
   "file_extension": ".py",
   "mimetype": "text/x-python",
   "name": "python",
   "nbconvert_exporter": "python",
   "pygments_lexer": "ipython3",
   "version": "3.7.3"
  }
 },
 "nbformat": 4,
 "nbformat_minor": 4
}
